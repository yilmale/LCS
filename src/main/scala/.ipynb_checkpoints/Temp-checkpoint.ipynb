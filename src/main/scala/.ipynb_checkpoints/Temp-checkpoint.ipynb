{
 "cells": [
  {
   "cell_type": "code",
   "execution_count": null,
   "id": "acceptable-finnish",
   "metadata": {},
   "outputs": [],
   "source": [
    "new Experiment {\n",
    "    params = Map(\"stopTime\" -> 30)\n",
    "    new Context {\n",
    "      model = new Model {\n",
    "        var PM : DynamicPerceptModel = new DynamicPerceptModel(\n",
    "          List(\n",
    "            Evidence(\"improve education\",0.0),\n",
    "            Evidence(\"lacking hospitals\",0.0),\n",
    "            Evidence(\"better infrastructure\",0.0),\n",
    "            Evidence(\"land expropriation\",0.0),\n",
    "            Evidence(\"forced relocation\",0.0))\n",
    "        )\n",
    "\n",
    "        add(PM)\n",
    "        add(new TribeMember(PM) schedule_at 0 every 1)\n",
    "        add(new BritishNarrative(PM) schedule_at 15 every 1)\n",
    "        add(new MaoMaoNarrative(PM) schedule_at 15 every 1)\n",
    "      }\n",
    "    }\n",
    "  } simulate()"
   ]
  },
  {
   "cell_type": "markdown",
   "id": "killing-grade",
   "metadata": {},
   "source": [
    "The simulation experiment shown above defines a dynamic percept model with specific *Evidence* nodes that are updated by the actions specified in the narrative models. The percept model is included in the simulation along with the three narrative models. The *TribeMember* model specifies the beliefs, goals, and actions of the members of the population. Both the *British-Narrative* and *MaoMao-Narrative* models are scheduled to enter into the simulation and start updating its state through the percept model 15 time steps after when the member narrative is created. \n",
    "\n",
    "The narratives used by the members of the population are programmatically defined as follows:"
   ]
  },
  {
   "cell_type": "code",
   "execution_count": null,
   "id": "daily-foundation",
   "metadata": {},
   "outputs": [],
   "source": [
    "class TribeMember(pm: PerceptModel = null) extends NarrativeAgent {\n",
    "  var perceptModel = pm\n",
    "  override def percept = perceptModel\n",
    "  var spec : NarrativeModel = new NarrativeModel {\n",
    "    override var narrativeFrame: ConstraintSatisfactionModel = Narrative {\n",
    "        evidence(\"land grab\", 0.00)\n",
    "        evidence(\"forced relocation\", 0.00)\n",
    "        evidence(\"improve education\", 0.00)\n",
    "        evidence(\"lacking hospitals\", 0.00)\n",
    "        evidence(\"better infrastructure\", 0.00)\n",
    "        belief(\"europeans should be favored\", 0.1)\n",
    "        belief(\"europeans should not be favored\", 0.01)\n",
    "        belief(\"europeans are caretakers\", 0.01)\n",
    "        belief(\"favor tribal order\", 0.01)\n",
    "        belief(\"prefer nationalism\", 0.01)\n",
    "        belief(\"prefer colonialism\", 0.01)\n",
    "        goal(\"need equality\", 0.01)\n",
    "        belief(\"lacking hospitals\", 0.01)\n",
    "        belief(\"better infrastructure\", 0.01)\n",
    "        effect(\"stay loyal to colonial system\", 0.01,\n",
    "          Activity(cond = true) {println(\"stay loyal\")}(exitCond = true))\n",
    "        effect(\"revolt\", 0.01,\n",
    "          Activity(cond = true) {println(\"revolt\")} (exitCond = true))\n",
    "    }.\n",
    "      subjectTo {\n",
    "        explain(Belief(\"europeans should not be favored\"), Evidence(\"land grab\"), 1.0)\n",
    "        explain(Belief(\"europeans should not be favored\"), Evidence(\"forced relocation\"), 1.0)\n",
    "        explain(Belief(\"favor tribal order\"), Belief(\"europeans should not be favored\"), 1.0)\n",
    "        contradict(Belief(\"europeans should be favored\"), Belief(\"europeans should not be favored\"), 1.0)\n",
    "        explain(Belief(\"europeans are caretakers\"), Belief(\"europeans should be favored\"), 1.0)\n",
    "        deduce(Goal(\"prefer colonialism\"), Belief(\"europeans are caretakers\"), 1.0)\n",
    "        contradict(Goal(\"prefer colonialism\"), Belief(\"need equality\"), 1.0)\n",
    "        explain(Belief(\"need equality\"), Evidence(\"better infrastructure\"),1.0)\n",
    "        explain(Belief(\"need equality\"), Evidence(\"improve education\"),1.0)\n",
    "        explain(Belief(\"need equality\"), Evidence(\"lacking hospitals\"),1.0)\n",
    "        deduce(Goal(\"prefer nationalism\"),Belief(\"favor tribal order\"), 1.0)\n",
    "        facilitate(Effect(\"revolt\"), Goal(\"prefer nationalism\"), 1.0)\n",
    "        contradict(Goal(\"prefer nationalism\"), Goal(\"prefer colonialism\"), 1.0)\n",
    "        facilitate(Effect(\"stay loyal to colonial system\"),Goal(\"prefer colonialism\"), 1.0)\n",
    "      }\n",
    "  }\n",
    "  var behavioralModel : ConstraintSatisfactionModel = spec.model\n",
    "\n",
    "}"
   ]
  },
  {
   "cell_type": "markdown",
   "id": "interpreted-blade",
   "metadata": {},
   "source": [
    "The narrative specification is defined in terms of a *narrative frame* that characterizes the beliefs, goals, and actions of individuals. Each one of these cognitive elements has its initial activation level. These activation levels can vary at the time of instantiation so that simulated individuals that embrace the perspective specified by the frame can have similar but distinct traits. Such variation induces diversity in the population. The narrative frame is subject to positive and negative constraints, which influence the activation dynamics of the cognitive system. When the evidence nodes are updated as a result of the actions of the simulated narratives, the percepts observed by  inviduals trigger updates in the belief and goal nodes of their narratives through the excitatory and inhibitory constraints to effect change.    "
   ]
  }
 ],
 "metadata": {
  "kernelspec": {
   "display_name": "Scala",
   "language": "scala",
   "name": "scala"
  },
  "language_info": {
   "codemirror_mode": "text/x-scala",
   "file_extension": ".sc",
   "mimetype": "text/x-scala",
   "name": "scala",
   "nbconvert_exporter": "script",
   "version": "2.13.3"
  }
 },
 "nbformat": 4,
 "nbformat_minor": 5
}
