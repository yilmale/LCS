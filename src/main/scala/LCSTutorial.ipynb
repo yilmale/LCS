{
 "cells": [
  {
   "cell_type": "markdown",
   "metadata": {},
   "source": [
    "# Learning Classifier Systems"
   ]
  },
  {
   "cell_type": "code",
   "execution_count": 1,
   "metadata": {},
   "outputs": [
    {
     "data": {
      "text/plain": [
       "\u001b[36mpath\u001b[39m: \u001b[32mjava\u001b[39m.\u001b[32mnio\u001b[39m.\u001b[32mfile\u001b[39m.\u001b[32mPath\u001b[39m = /Users/yilmaz/Desktop/Lib/LCS.jar\n",
       "\u001b[36mx\u001b[39m: \u001b[32mos\u001b[39m.\u001b[32mPath\u001b[39m = /Users/yilmaz/Desktop/Lib/LCS.jar"
      ]
     },
     "execution_count": 1,
     "metadata": {},
     "output_type": "execute_result"
    }
   ],
   "source": [
    "val path = java.nio.file.FileSystems.getDefault().getPath(\"/Users/yilmaz/Desktop/Lib/LCS.jar\")\n",
    "val x = ammonite.ops.Path(path)\n",
    "interp.load.cp(x)"
   ]
  },
  {
   "cell_type": "code",
   "execution_count": 2,
   "metadata": {},
   "outputs": [],
   "source": [
    "interp.load.ivy(\"org.scalanlp\" %% \"breeze\" % \"1.1\")"
   ]
  },
  {
   "cell_type": "code",
   "execution_count": 3,
   "metadata": {},
   "outputs": [],
   "source": [
    "interp.load.ivy(\"org.scalanlp\" %% \"breeze-natives\" % \"1.1\")"
   ]
  },
  {
   "cell_type": "code",
   "execution_count": 4,
   "metadata": {},
   "outputs": [
    {
     "data": {
      "text/plain": [
       "\u001b[32mimport \u001b[39m\u001b[36mxcs._\u001b[39m"
      ]
     },
     "execution_count": 4,
     "metadata": {},
     "output_type": "execute_result"
    }
   ],
   "source": [
    "import xcs._"
   ]
  },
  {
   "cell_type": "code",
   "execution_count": 26,
   "metadata": {},
   "outputs": [
    {
     "data": {
      "text/html": [
       "<div class=\"jp-RenderedText\">\n",
       "<pre><code><span style=\"color: rgb(0, 187, 187)\"><span class=\"ansi-cyan-fg\">ucs</span></span>: <span style=\"color: rgb(0, 187, 0)\"><span class=\"ansi-green-fg\">lcs</span></span>.<span style=\"color: rgb(0, 187, 0)\"><span class=\"ansi-green-fg\">SupervisedLCS</span></span> with <span style=\"color: rgb(0, 187, 0)\"><span class=\"ansi-green-fg\">Reporter</span></span> = ammonite.$sess.cmd25$Helper$$anon$1@1ede2096</code></pre>\n",
       "</div>"
      ],
      "text/plain": [
       "\u001b[36mucs\u001b[39m: \u001b[32mlcs\u001b[39m.\u001b[32mSupervisedLCS\u001b[39m with \u001b[32mReporter\u001b[39m = ammonite.$sess.cmd25$Helper$$anon$1@1ede2096"
      ]
     },
     "metadata": {},
     "output_type": "display_data"
    }
   ],
   "source": [
    "var ucs = new lcs.SupervisedLCS with Reporter"
   ]
  },
  {
   "cell_type": "code",
   "execution_count": 27,
   "metadata": {},
   "outputs": [
    {
     "data": {
      "text/html": [
       "<div class=\"jp-RenderedText\">\n",
       "<pre><code><span style=\"color: rgb(0, 187, 187)\"><span class=\"ansi-cyan-fg\">problem</span></span>: <span style=\"color: rgb(0, 187, 0)\"><span class=\"ansi-green-fg\">lcs</span></span>.<span style=\"color: rgb(0, 187, 0)\"><span class=\"ansi-green-fg\">LCSOmegaProblem</span></span> = lcs.LCSOmegaProblem@191fe960</code></pre>\n",
       "</div>"
      ],
      "text/plain": [
       "\u001b[36mproblem\u001b[39m: \u001b[32mlcs\u001b[39m.\u001b[32mLCSOmegaProblem\u001b[39m = lcs.LCSOmegaProblem@191fe960"
      ]
     },
     "metadata": {},
     "output_type": "display_data"
    }
   ],
   "source": [
    "var problem = new lcs.LCSOmegaProblem(10000)"
   ]
  },
  {
   "cell_type": "code",
   "execution_count": 28,
   "metadata": {},
   "outputs": [
    {
     "name": "stdout",
     "output_type": "stream",
     "text": [
      "Beginning learning iterations.\n",
      "Rule : \n",
      "Condition: #00 \n",
      "Action: 0\n",
      "Accuracy: 0.8204798628963154\n",
      "Fitness: 0.5523365460052068\n",
      "Match Count: 2334\n",
      "Correct Count: 1916\n",
      "Time Stamp: 6507\n",
      "Numerosity: 7\n",
      "Rule : \n",
      "Condition: 110 \n",
      "Action: 1\n",
      "Accuracy: 0.9294199860237596\n",
      "Fitness: 0.8028529761419563\n",
      "Match Count: 1431\n",
      "Correct Count: 1331\n",
      "Time Stamp: 3218\n",
      "Numerosity: 38\n",
      "Rule : \n",
      "Condition: 000 \n",
      "Action: 0\n",
      "Accuracy: 0.9633074935400516\n",
      "Fitness: 0.8939121001208354\n",
      "Match Count: 1935\n",
      "Correct Count: 1865\n",
      "Time Stamp: 2254\n",
      "Numerosity: 13\n",
      "Rule : \n",
      "Condition: 111 \n",
      "Action: 1\n",
      "Accuracy: 0.9194865810968494\n",
      "Fitness: 0.7773850541189409\n",
      "Match Count: 857\n",
      "Correct Count: 789\n",
      "Time Stamp: 2010\n",
      "Numerosity: 24\n",
      "Rule : \n",
      "Condition: 011 \n",
      "Action: 0\n",
      "Accuracy: 0.9711538461538461\n",
      "Fitness: 0.9159338373350022\n",
      "Match Count: 1976\n",
      "Correct Count: 1920\n",
      "Time Stamp: 1816\n",
      "Numerosity: 15\n",
      "Rule : \n",
      "Condition: 100 \n",
      "Action: 1\n",
      "Accuracy: 0.9252958579881657\n",
      "Fitness: 0.7922127984004288\n",
      "Match Count: 1352\n",
      "Correct Count: 1252\n",
      "Time Stamp: 1359\n",
      "Numerosity: 24\n",
      "Rule : \n",
      "Condition: 1#1 \n",
      "Action: 1\n",
      "Accuracy: 0.9723404255319149\n",
      "Fitness: 0.9192952717605926\n",
      "Match Count: 1410\n",
      "Correct Count: 1372\n",
      "Time Stamp: 1109\n",
      "Numerosity: 62\n",
      "Rule : \n",
      "Condition: 101 \n",
      "Action: 1\n",
      "Accuracy: 0.8715341959334566\n",
      "Fitness: 0.661992845623418\n",
      "Match Count: 1082\n",
      "Correct Count: 944\n",
      "Time Stamp: 936\n",
      "Numerosity: 46\n",
      "Rule : \n",
      "Condition: 10# \n",
      "Action: 1\n",
      "Accuracy: 0.927187008905186\n",
      "Fitness: 0.7970801867910454\n",
      "Match Count: 1909\n",
      "Correct Count: 1771\n",
      "Time Stamp: 896\n",
      "Numerosity: 73\n",
      "Rule : \n",
      "Condition: 1## \n",
      "Action: 1\n",
      "Accuracy: 0.9552334943639291\n",
      "Fitness: 0.871622889303223\n",
      "Match Count: 3105\n",
      "Correct Count: 2967\n",
      "Time Stamp: 852\n",
      "Numerosity: 144\n",
      "Rule : \n",
      "Condition: 001 \n",
      "Action: 0\n",
      "Accuracy: 0.9504854368932039\n",
      "Fitness: 0.8586899921023274\n",
      "Match Count: 2060\n",
      "Correct Count: 1959\n",
      "Time Stamp: 798\n",
      "Numerosity: 44\n",
      "Rule : \n",
      "Condition: 1#0 \n",
      "Action: 1\n",
      "Accuracy: 0.9507557289127255\n",
      "Fitness: 0.8594227641724611\n",
      "Match Count: 2051\n",
      "Correct Count: 1951\n",
      "Time Stamp: 745\n",
      "Numerosity: 63\n",
      "Rule : \n",
      "Condition: 0#0 \n",
      "Action: 0\n",
      "Accuracy: 0.9540581929555896\n",
      "Fitness: 0.8684095607120395\n",
      "Match Count: 3265\n",
      "Correct Count: 3116\n",
      "Time Stamp: 744\n",
      "Numerosity: 56\n",
      "Rule : \n",
      "Condition: #11 \n",
      "Action: 0\n",
      "Accuracy: 0.8032649644202595\n",
      "Fitness: 0.5182943504737924\n",
      "Match Count: 2389\n",
      "Correct Count: 1920\n",
      "Time Stamp: 714\n",
      "Numerosity: 19\n",
      "Rule : \n",
      "Condition: 11# \n",
      "Action: 1\n",
      "Accuracy: 0.9072031148604802\n",
      "Fitness: 0.7466440319755715\n",
      "Match Count: 1541\n",
      "Correct Count: 1399\n",
      "Time Stamp: 624\n",
      "Numerosity: 63\n",
      "Rule : \n",
      "Condition: 00# \n",
      "Action: 0\n",
      "Accuracy: 0.9710548288338435\n",
      "Fitness: 0.915653704374818\n",
      "Match Count: 3593\n",
      "Correct Count: 3490\n",
      "Time Stamp: 178\n",
      "Numerosity: 72\n",
      "Rule : \n",
      "Condition: 01# \n",
      "Action: 0\n",
      "Accuracy: 0.9599451303155007\n",
      "Fitness: 0.884584304966896\n",
      "Match Count: 3645\n",
      "Correct Count: 3500\n",
      "Time Stamp: 176\n",
      "Numerosity: 56\n",
      "Rule : \n",
      "Condition: 0#1 \n",
      "Action: 0\n",
      "Accuracy: 0.9733403031887088\n",
      "Fitness: 0.9221341797705122\n",
      "Match Count: 3826\n",
      "Correct Count: 3725\n",
      "Time Stamp: 44\n",
      "Numerosity: 71\n",
      "Rule : \n",
      "Condition: 0## \n",
      "Action: 0\n",
      "Accuracy: 0.97165991902834\n",
      "Fitness: 0.9173664760286577\n",
      "Match Count: 7163\n",
      "Correct Count: 6961\n",
      "Time Stamp: 11\n",
      "Numerosity: 158\n",
      "Rule : \n",
      "Condition: 010 \n",
      "Action: 0\n",
      "Accuracy: 0.9405940594059405\n",
      "Fitness: 0.832159728079464\n",
      "Match Count: 1717\n",
      "Correct Count: 1616\n",
      "Time Stamp: 10\n",
      "Numerosity: 50\n"
     ]
    },
    {
     "data": {
      "text/plain": [
       "\u001b[36mres27_1\u001b[39m: \u001b[32mList\u001b[39m[\u001b[32mlcs\u001b[39m.\u001b[32mClassifierRule\u001b[39m[\u001b[32mlcs\u001b[39m.\u001b[32mCondition\u001b[39m, \u001b[32mlcs\u001b[39m.\u001b[32mPhenotype\u001b[39m, \u001b[32mBoolean\u001b[39m]] = \u001b[33mList\u001b[39m(\n",
       "  lcs.Classifier@f40e96d,\n",
       "  lcs.Classifier@210cccd9,\n",
       "  lcs.Classifier@5d41103b,\n",
       "  lcs.Classifier@e6edc81,\n",
       "  lcs.Classifier@6ed57a0,\n",
       "  lcs.Classifier@414029a0,\n",
       "  lcs.Classifier@1455297b,\n",
       "  lcs.Classifier@6ca765a4,\n",
       "  lcs.Classifier@1b7fc7,\n",
       "  lcs.Classifier@40565b4d,\n",
       "  lcs.Classifier@7d75bccd,\n",
       "  lcs.Classifier@2a287c82,\n",
       "  lcs.Classifier@7116cb47,\n",
       "  lcs.Classifier@3687a1b,\n",
       "  lcs.Classifier@532b2d6f,\n",
       "  lcs.Classifier@3a0e87e4,\n",
       "  lcs.Classifier@7d852f11,\n",
       "  lcs.Classifier@3dfd3a18,\n",
       "  lcs.Classifier@37b7389d,\n",
       "  lcs.Classifier@7948b828\n",
       ")"
      ]
     },
     "execution_count": 28,
     "metadata": {},
     "output_type": "execute_result"
    }
   ],
   "source": [
    "ucs.run(problem)\n",
    "ucs.report(cl => (cl.fitness > 0.5) && (cl.accuracy > 0.5))"
   ]
  },
  {
   "cell_type": "code",
   "execution_count": 29,
   "metadata": {},
   "outputs": [
    {
     "name": "stdout",
     "output_type": "stream",
     "text": [
      "Experiment 0:\n",
      "Beginning learning iterations.\n",
      "Rule : \n",
      "Condition: 0## \n",
      "Action: 0\n",
      "Prediction: 3416.2503830767505\n",
      "Fitness: 0.9956241253711363\n",
      "Time Stamp: 0\n",
      "Numerosity: 57\n",
      "Rule : \n",
      "Condition: 0## \n",
      "Action: 1\n",
      "Prediction: 1930.3325914036625\n",
      "Fitness: 0.9999866511035754\n",
      "Time Stamp: 0\n",
      "Numerosity: 840\n",
      "Rule : \n",
      "Condition: 1## \n",
      "Action: 0\n",
      "Prediction: 2376.056815295185\n",
      "Fitness: 0.8955121508356672\n",
      "Time Stamp: 9\n",
      "Numerosity: 452\n",
      "Rule : \n",
      "Condition: 1## \n",
      "Action: 1\n",
      "Prediction: 3403.7967563885218\n",
      "Fitness: 0.9974816785287055\n",
      "Time Stamp: 9\n",
      "Numerosity: 845\n",
      "----------------------\n",
      "Experiment 1:\n",
      "Beginning learning iterations.\n",
      "Rule : \n",
      "Condition: 0## \n",
      "Action: 1\n",
      "Prediction: 2161.747206312056\n",
      "Fitness: 0.9999930094587814\n",
      "Time Stamp: 0\n",
      "Numerosity: 840\n",
      "Rule : \n",
      "Condition: 1## \n",
      "Action: 0\n",
      "Prediction: 2173.9760336804225\n",
      "Fitness: 0.9704462683087586\n",
      "Time Stamp: 9\n",
      "Numerosity: 452\n",
      "Rule : \n",
      "Condition: 1## \n",
      "Action: 1\n",
      "Prediction: 3148.2567058421714\n",
      "Fitness: 0.9999999428946521\n",
      "Time Stamp: 9\n",
      "Numerosity: 851\n",
      "----------------------\n",
      "Experiment 2:\n",
      "Beginning learning iterations.\n",
      "Rule : \n",
      "Condition: 0## \n",
      "Action: 1\n",
      "Prediction: 2276.883121339697\n",
      "Fitness: 0.9999955665964618\n",
      "Time Stamp: 0\n",
      "Numerosity: 840\n",
      "Rule : \n",
      "Condition: 1## \n",
      "Action: 0\n",
      "Prediction: 2193.577446336046\n",
      "Fitness: 0.9297914614686766\n",
      "Time Stamp: 9\n",
      "Numerosity: 452\n",
      "Rule : \n",
      "Condition: ### \n",
      "Action: 0\n",
      "Prediction: 2721.5725733491136\n",
      "Fitness: 0.9236299321298772\n",
      "Time Stamp: 9\n",
      "Numerosity: 192\n",
      "Rule : \n",
      "Condition: 1## \n",
      "Action: 1\n",
      "Prediction: 3258.501121482988\n",
      "Fitness: 0.9999997839720479\n",
      "Time Stamp: 9\n",
      "Numerosity: 851\n",
      "----------------------\n",
      "Experiment 3:\n",
      "Beginning learning iterations.\n",
      "Rule : \n",
      "Condition: 0## \n",
      "Action: 1\n",
      "Prediction: 2248.9828089033813\n",
      "Fitness: 0.999998962540875\n",
      "Time Stamp: 0\n",
      "Numerosity: 840\n",
      "Rule : \n",
      "Condition: 1## \n",
      "Action: 0\n",
      "Prediction: 2130.9000210359286\n",
      "Fitness: 0.9133868595583591\n",
      "Time Stamp: 9\n",
      "Numerosity: 452\n",
      "Rule : \n",
      "Condition: ### \n",
      "Action: 0\n",
      "Prediction: 2684.312033285993\n",
      "Fitness: 0.8513034566893549\n",
      "Time Stamp: 9\n",
      "Numerosity: 192\n",
      "Rule : \n",
      "Condition: 1## \n",
      "Action: 1\n",
      "Prediction: 3242.435080506873\n",
      "Fitness: 0.9999986484120007\n",
      "Time Stamp: 9\n",
      "Numerosity: 851\n",
      "----------------------\n",
      "Experiment 4:\n",
      "Beginning learning iterations.\n",
      "Rule : \n",
      "Condition: 0## \n",
      "Action: 1\n",
      "Prediction: 2350.678058186382\n",
      "Fitness: 0.9999965566084161\n",
      "Time Stamp: 0\n",
      "Numerosity: 840\n",
      "Rule : \n",
      "Condition: 1## \n",
      "Action: 0\n",
      "Prediction: 2304.0674927448586\n",
      "Fitness: 0.9629640503761512\n",
      "Time Stamp: 9\n",
      "Numerosity: 452\n",
      "Rule : \n",
      "Condition: ### \n",
      "Action: 0\n",
      "Prediction: 2844.3369821785695\n",
      "Fitness: 0.9785324726753601\n",
      "Time Stamp: 9\n",
      "Numerosity: 192\n",
      "Rule : \n",
      "Condition: 1## \n",
      "Action: 1\n",
      "Prediction: 3335.5065444465386\n",
      "Fitness: 0.9999999557543573\n",
      "Time Stamp: 9\n",
      "Numerosity: 851\n",
      "----------------------\n"
     ]
    },
    {
     "data": {
      "text/html": [
       "<div class=\"jp-RenderedText\">\n",
       "<pre><code><span style=\"color: rgb(0, 187, 187)\"><span class=\"ansi-cyan-fg\">uslcs</span></span>: <span style=\"color: rgb(0, 187, 0)\"><span class=\"ansi-green-fg\">UnSupervisedLCS</span></span> with <span style=\"color: rgb(0, 187, 0)\"><span class=\"ansi-green-fg\">Reporter</span></span> = ammonite.$sess.cmd28$Helper$$anon$1@3347c107\n",
       "<span style=\"color: rgb(0, 187, 187)\"><span class=\"ansi-cyan-fg\">problem</span></span>: <span style=\"color: rgb(0, 187, 0)\"><span class=\"ansi-green-fg\">LCSOmegaProblem</span></span> = xcs.LCSOmegaProblem@7be3753c\n",
       "<span style=\"color: rgb(0, 187, 187)\"><span class=\"ansi-cyan-fg\">experiments</span></span>: <span style=\"color: rgb(0, 187, 0)\"><span class=\"ansi-green-fg\">Int</span></span> = <span style=\"color: rgb(0, 187, 0)\"><span class=\"ansi-green-fg\">5</span></span>\n",
       "<span style=\"color: rgb(0, 187, 187)\"><span class=\"ansi-cyan-fg\">i</span></span>: <span style=\"color: rgb(0, 187, 0)\"><span class=\"ansi-green-fg\">Int</span></span> = <span style=\"color: rgb(0, 187, 0)\"><span class=\"ansi-green-fg\">5</span></span></code></pre>\n",
       "</div>"
      ],
      "text/plain": [
       "\u001b[36muslcs\u001b[39m: \u001b[32mUnSupervisedLCS\u001b[39m with \u001b[32mReporter\u001b[39m = ammonite.$sess.cmd28$Helper$$anon$1@3347c107\n",
       "\u001b[36mproblem\u001b[39m: \u001b[32mLCSOmegaProblem\u001b[39m = xcs.LCSOmegaProblem@7be3753c\n",
       "\u001b[36mexperiments\u001b[39m: \u001b[32mInt\u001b[39m = \u001b[32m5\u001b[39m\n",
       "\u001b[36mi\u001b[39m: \u001b[32mInt\u001b[39m = \u001b[32m5\u001b[39m"
      ]
     },
     "metadata": {},
     "output_type": "display_data"
    }
   ],
   "source": [
    "var uslcs = new UnSupervisedLCS with Reporter\n",
    "var problem = new LCSOmegaProblem(15000)\n",
    "var experiments : Int = 5\n",
    "var i : Int = 0\n",
    "do {\n",
    "    println(\"Experiment \" + i + \":\")\n",
    "    uslcs.run(problem)\n",
    "    uslcs.report(cl => (cl.fitness >= 0.8))\n",
    "    problem.reset\n",
    "    i += 1\n",
    "    println(\"----------------------\")\n",
    "} while (i < experiments)"
   ]
  },
  {
   "cell_type": "code",
   "execution_count": 13,
   "metadata": {},
   "outputs": [
    {
     "data": {
      "text/html": [
       "<div class=\"jp-RenderedText\">\n",
       "<pre><code><span style=\"color: rgb(0, 187, 187)\"><span class=\"ansi-cyan-fg\">problem</span></span>: <span style=\"color: rgb(0, 187, 0)\"><span class=\"ansi-green-fg\">LCSAUProblem</span></span> = xcs.LCSAUProblem@195e16b</code></pre>\n",
       "</div>"
      ],
      "text/plain": [
       "\u001b[36mproblem\u001b[39m: \u001b[32mLCSAUProblem\u001b[39m = xcs.LCSAUProblem@195e16b"
      ]
     },
     "metadata": {},
     "output_type": "display_data"
    }
   ],
   "source": [
    "var problem = new LCSAUProblem(15000)"
   ]
  },
  {
   "cell_type": "code",
   "execution_count": 6,
   "metadata": {},
   "outputs": [
    {
     "name": "stdout",
     "output_type": "stream",
     "text": [
      "Beginning learning iterations.\n"
     ]
    },
    {
     "data": {
      "text/html": [
       "<div class=\"jp-RenderedText\">\n",
       "<pre><code><span style=\"color: rgb(0, 187, 187)\"><span class=\"ansi-cyan-fg\">uslcs</span></span>: <span style=\"color: rgb(0, 187, 0)\"><span class=\"ansi-green-fg\">UnSupervisedLCS</span></span> with <span style=\"color: rgb(0, 187, 0)\"><span class=\"ansi-green-fg\">Reporter</span></span> = ammonite.$sess.cmd5$Helper$$anon$1@514c8d0c</code></pre>\n",
       "</div>"
      ],
      "text/plain": [
       "\u001b[36muslcs\u001b[39m: \u001b[32mUnSupervisedLCS\u001b[39m with \u001b[32mReporter\u001b[39m = ammonite.$sess.cmd5$Helper$$anon$1@514c8d0c"
      ]
     },
     "metadata": {},
     "output_type": "display_data"
    }
   ],
   "source": [
    "var uslcs : UnSupervisedLCS with Reporter = new UnSupervisedLCS with Reporter\n",
    "uslcs.run(problem)"
   ]
  },
  {
   "cell_type": "code",
   "execution_count": 7,
   "metadata": {},
   "outputs": [
    {
     "name": "stdout",
     "output_type": "stream",
     "text": [
      "Rule : \n",
      "Condition: 1####0#00#0### \n",
      "Action: 01\n",
      "Prediction: 3332.3418139495816\n",
      "Fitness: 0.5566269364374654\n",
      "Time Stamp: 10\n",
      "Numerosity: 2\n",
      "Rule : \n",
      "Condition: #10##100000### \n",
      "Action: 01\n",
      "Prediction: 3340.815340486542\n",
      "Fitness: 0.6320657232536481\n",
      "Time Stamp: 22\n",
      "Numerosity: 2\n",
      "Rule : \n",
      "Condition: #######1###### \n",
      "Action: 11\n",
      "Prediction: 3332.972169338573\n",
      "Fitness: 0.7126717327927707\n",
      "Time Stamp: 13\n",
      "Numerosity: 814\n"
     ]
    },
    {
     "data": {
      "text/html": [
       "<div class=\"jp-RenderedText\">\n",
       "<pre><code><span style=\"color: rgb(0, 187, 187)\"><span class=\"ansi-cyan-fg\">results</span></span>: <span style=\"color: rgb(0, 187, 0)\"><span class=\"ansi-green-fg\">List</span></span>[<span style=\"color: rgb(0, 187, 0)\"><span class=\"ansi-green-fg\">ClassifierRule</span></span>[<span style=\"color: rgb(0, 187, 0)\"><span class=\"ansi-green-fg\">Condition</span></span>, <span style=\"color: rgb(0, 187, 0)\"><span class=\"ansi-green-fg\">Phenotype</span></span>, <span style=\"color: rgb(0, 187, 0)\"><span class=\"ansi-green-fg\">Double</span></span>]] = <span style=\"color: yellow\"><span class=\"ansi-yellow-fg\">List</span></span>(\n",
       "  xcs.Classifier@10bfc8e9,\n",
       "  xcs.Classifier@291fbfbc,\n",
       "  xcs.Classifier@8f2f409\n",
       ")</code></pre>\n",
       "</div>"
      ],
      "text/plain": [
       "\u001b[36mresults\u001b[39m: \u001b[32mList\u001b[39m[\u001b[32mClassifierRule\u001b[39m[\u001b[32mCondition\u001b[39m, \u001b[32mPhenotype\u001b[39m, \u001b[32mDouble\u001b[39m]] = \u001b[33mList\u001b[39m(\n",
       "  xcs.Classifier@10bfc8e9,\n",
       "  xcs.Classifier@291fbfbc,\n",
       "  xcs.Classifier@8f2f409\n",
       ")"
      ]
     },
     "metadata": {},
     "output_type": "display_data"
    }
   ],
   "source": [
    "var results = uslcs.report(cl => (cl.fitness > 0.5))"
   ]
  },
  {
   "cell_type": "code",
   "execution_count": 8,
   "metadata": {},
   "outputs": [
    {
     "name": "stdout",
     "output_type": "stream",
     "text": [
      "Rule : \n",
      "Condition: #10##100000### \n",
      "Action: 01\n",
      "Prediction: 3340.815340486542\n",
      "Fitness: 0.6320657232536481\n",
      "Time Stamp: 22\n",
      "Numerosity: 2\n",
      "Rule : \n",
      "Condition: #######1###### \n",
      "Action: 11\n",
      "Prediction: 3332.972169338573\n",
      "Fitness: 0.7126717327927707\n",
      "Time Stamp: 13\n",
      "Numerosity: 814\n",
      "Rule : \n",
      "Condition: 1####0#00#0### \n",
      "Action: 01\n",
      "Prediction: 3332.3418139495816\n",
      "Fitness: 0.5566269364374654\n",
      "Time Stamp: 10\n",
      "Numerosity: 2\n"
     ]
    }
   ],
   "source": [
    " uslcs.sort(results) foreach { cl =>\n",
    "      println(cl.report())\n",
    "    }"
   ]
  },
  {
   "cell_type": "code",
   "execution_count": null,
   "metadata": {},
   "outputs": [],
   "source": []
  }
 ],
 "metadata": {
  "kernelspec": {
   "display_name": "Scala",
   "language": "scala",
   "name": "scala"
  },
  "language_info": {
   "codemirror_mode": "text/x-scala",
   "file_extension": ".sc",
   "mimetype": "text/x-scala",
   "name": "scala",
   "nbconvert_exporter": "script",
   "version": "2.13.3"
  }
 },
 "nbformat": 4,
 "nbformat_minor": 4
}
